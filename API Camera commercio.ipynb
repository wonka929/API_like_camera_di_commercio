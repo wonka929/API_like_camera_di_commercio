{
 "cells": [
  {
   "cell_type": "code",
   "execution_count": 6,
   "metadata": {},
   "outputs": [],
   "source": [
    "from selenium import webdriver\n",
    "from selenium.webdriver.common.keys import Keys\n",
    "import time\n",
    "import bs4 as bs\n",
    "import json\n",
    "\n",
    "def trova_dati_PIVA(piva):\n",
    "    driver = webdriver.Chrome()\n",
    "    driver.get('https://www.ufficiocamerale.it/trova-azienda')\n",
    "    driver.find_element_by_xpath('/html/body/main/div/div/div[2]/form/div[1]/div/input').send_keys(piva)\n",
    "    driver.find_element_by_xpath('/html/body/main/div/div/div[2]/form/div[1]/div/input').send_keys(Keys.ENTER)\n",
    "    time.sleep(5)\n",
    "    html = driver.page_source\n",
    "\n",
    "\n",
    "    html2 = bs.BeautifulSoup(html, 'html.parser')\n",
    "    dati = html2.find_all('div', class_='row')[18]\n",
    "\n",
    "    i = dati.find_all('li', class_='list-group-item')\n",
    "    estrazione = dict()\n",
    "    for item in i:\n",
    "        try:\n",
    "            tag = item.text.split(':')[0].strip()\n",
    "            value = item.text.split(':')[1].strip().replace('\\xa0', ' ').replace('-\\nCodice Fiscale', '')\n",
    "            estrazione[tag] = value\n",
    "        except:\n",
    "            pass\n",
    "    \n",
    "    driver.close()\n",
    "    return json.dumps(estrazione)"
   ]
  },
  {
   "cell_type": "code",
   "execution_count": 7,
   "metadata": {},
   "outputs": [
    {
     "data": {
      "text/plain": [
       "'{\"Partita IVA\": \"03450930247 \", \"Rag. Sociale\": \"MAXFONE S.R.L.\", \"Indirizzo\": \"VIA BERBERA 37 - 37131 - VERONA (VR)\", \"Rea\": \"366997\", \"PEC\": \"comunicazioni@pec.maxfone.it\", \"Fatturato\": \"\\\\u20ac 954.613,00 (2022) ACQUISTA BILANCIO\", \"Dipendenti\": \"4 (2023)\", \"Forma giuridica\": \"SOCIETA\\' A RESPONSABILITA\\' LIMITATA\", \"Data Iscrizione\": \"01/06/2010\", \"Ateco\": \"Commercio all\\'ingrosso di apparecchi e materiali telefonici\", \"Cod. Ateco\": \"465201\", \"Utile\": \"\\\\u20ac -13.140,00 (2022)\", \"Capitale sociale\": \"\\\\u20ac 100.000,00  (2023)\", \"Camera di commercio\": \"VR\", \"Codice destinatario\": \"A4707H7\"}'"
      ]
     },
     "execution_count": 7,
     "metadata": {},
     "output_type": "execute_result"
    }
   ],
   "source": [
    "trova_dati_PIVA('03450930247')"
   ]
  },
  {
   "cell_type": "code",
   "execution_count": null,
   "metadata": {},
   "outputs": [],
   "source": []
  }
 ],
 "metadata": {
  "kernelspec": {
   "display_name": "Python 3",
   "language": "python",
   "name": "python3"
  },
  "language_info": {
   "codemirror_mode": {
    "name": "ipython",
    "version": 3
   },
   "file_extension": ".py",
   "mimetype": "text/x-python",
   "name": "python",
   "nbconvert_exporter": "python",
   "pygments_lexer": "ipython3",
   "version": "3.10.12"
  }
 },
 "nbformat": 4,
 "nbformat_minor": 2
}
