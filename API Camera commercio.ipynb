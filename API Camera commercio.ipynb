{
 "cells": [
  {
   "cell_type": "code",
   "execution_count": 22,
   "metadata": {},
   "outputs": [],
   "source": [
    "from selenium import webdriver\n",
    "from selenium.webdriver.common.keys import Keys\n",
    "import time\n",
    "import bs4 as bs\n",
    "import json\n",
    "import argparse\n",
    "\n",
    "def trova_dati_PIVA(piva):\n",
    "    try:\n",
    "        driver = webdriver.Chrome()\n",
    "        driver.maximize_window()\n",
    "        driver.get('https://www.ufficiocamerale.it/trova-azienda')\n",
    "        driver.find_element_by_xpath('/html/body/main/div/div/div[2]/form/div[1]/div/input').send_keys(piva)\n",
    "        time.sleep(5)\n",
    "\n",
    "        i = []\n",
    "        while len(i) == 0:\n",
    "            driver.find_element_by_xpath('/html/body/main/div/div/div[2]/form/p/button').click()\n",
    "            time.sleep(5)\n",
    "            html = driver.page_source\n",
    "\n",
    "\n",
    "            html2 = bs.BeautifulSoup(html, 'html.parser')\n",
    "            dati = html2.find_all('div', class_='row')[18]\n",
    "            i = dati.find_all('li', class_='list-group-item')\n",
    "\n",
    "            estrazione = dict()\n",
    "            for item in i:\n",
    "                try:\n",
    "                    tag = item.text.split(':')[0].strip()\n",
    "                    value = item.text.split(':')[1].strip().replace('\\xa0', ' ').replace('-\\nCodice Fiscale', '')\n",
    "                    estrazione[tag] = value\n",
    "                except:\n",
    "                    pass\n",
    "        \n",
    "        \n",
    "        driver.close()\n",
    "        return json.dumps(estrazione)\n",
    "    except Exception as e:  \n",
    "        #driver.close()\n",
    "        return e"
   ]
  },
  {
   "cell_type": "code",
   "execution_count": 2,
   "metadata": {},
   "outputs": [
    {
     "name": "stderr",
     "output_type": "stream",
     "text": [
      "usage: ipykernel_launcher.py [-h] [--piva PIVA]\n",
      "ipykernel_launcher.py: error: unrecognized arguments: --ip=127.0.0.1 --stdin=9008 --control=9006 --hb=9005 --Session.signature_scheme=\"hmac-sha256\" --Session.key=b\"5eab4114-828d-4161-badc-db50ecbd4ac0\" --shell=9007 --transport=\"tcp\" --iopub=9009 --f=/home/wonka/.local/share/jupyter/runtime/kernel-v2-7117ZHTK0ZQLBqyi.json\n"
     ]
    },
    {
     "ename": "SystemExit",
     "evalue": "2",
     "output_type": "error",
     "traceback": [
      "An exception has occurred, use %tb to see the full traceback.\n",
      "\u001b[0;31mSystemExit\u001b[0m\u001b[0;31m:\u001b[0m 2\n"
     ]
    },
    {
     "name": "stderr",
     "output_type": "stream",
     "text": [
      "/home/wonka/.local/lib/python3.10/site-packages/IPython/core/interactiveshell.py:3516: UserWarning: To exit: use 'exit', 'quit', or Ctrl-D.\n",
      "  warn(\"To exit: use 'exit', 'quit', or Ctrl-D.\", stacklevel=1)\n"
     ]
    }
   ],
   "source": [
    "argparser = argparse.ArgumentParser()\n",
    "argparser.add_argument('--piva', help='Partita IVA')\n",
    "args = argparser.parse_args()\n",
    "print(trova_dati_PIVA(args.piva))"
   ]
  },
  {
   "cell_type": "code",
   "execution_count": 24,
   "metadata": {},
   "outputs": [
    {
     "data": {
      "text/plain": [
       "'{\"Partita IVA\": \"02655510358 \", \"Rag. Sociale\": \"CENTRO ODONTOIATRICO SYNAGO S.R.L.\", \"Indirizzo\": \"VIA ROMA 4 - 42049 - SANT\\'ILARIO D\\'ENZA (RE)\", \"Rea\": \"301513\", \"PEC\": \"centrosynago@pec.it\", \"Fatturato\": \"\\\\u20ac 534.495,00 (2022) ACQUISTA BILANCIO\", \"Dipendenti\": \"5 (2023)\", \"Forma giuridica\": \"SOCIETA\\' A RESPONSABILITA\\' LIMITATA\", \"Data Iscrizione\": \"29/04/2015\", \"Ateco\": \"Attivit\\\\u00e0 degli studi odontoiatrici\", \"Cod. Ateco\": \"8623\", \"Utile\": \"\\\\u20ac 2.736,00 (2022)\", \"Capitale sociale\": \"\\\\u20ac 12.000,00  (2023)\", \"Camera di commercio\": \"RE\", \"Codice destinatario\": \"SUBM70N\"}'"
      ]
     },
     "execution_count": 24,
     "metadata": {},
     "output_type": "execute_result"
    }
   ],
   "source": [
    "trova_dati_PIVA(\"02655510358\")"
   ]
  },
  {
   "cell_type": "code",
   "execution_count": null,
   "metadata": {},
   "outputs": [],
   "source": []
  }
 ],
 "metadata": {
  "kernelspec": {
   "display_name": "Python 3",
   "language": "python",
   "name": "python3"
  },
  "language_info": {
   "codemirror_mode": {
    "name": "ipython",
    "version": 3
   },
   "file_extension": ".py",
   "mimetype": "text/x-python",
   "name": "python",
   "nbconvert_exporter": "python",
   "pygments_lexer": "ipython3",
   "version": "3.10.12"
  }
 },
 "nbformat": 4,
 "nbformat_minor": 2
}
